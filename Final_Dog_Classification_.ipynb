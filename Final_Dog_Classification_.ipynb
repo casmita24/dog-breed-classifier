{
  "nbformat": 4,
  "nbformat_minor": 0,
  "metadata": {
    "colab": {
      "provenance": []
    },
    "kernelspec": {
      "name": "python3",
      "display_name": "Python 3"
    },
    "language_info": {
      "name": "python"
    }
  },
  "cells": [
    {
      "cell_type": "code",
      "execution_count": null,
      "metadata": {
        "id": "CewWn5cZlpDH"
      },
      "outputs": [],
      "source": [
        "import cv2\n",
        "import numpy as np\n",
        "import pandas as pd\n",
        "import tensorflow as tf\n",
        "import matplotlib.pyplot as plt\n",
        "\n",
        "from tensorflow.keras import layers\n",
        "from tensorflow.keras.models import Sequential\n",
        "from PIL import Image\n"
      ]
    },
    {
      "cell_type": "code",
      "source": [
        "def preprocess_image(image):\n",
        "    # Resize image to (256, 256) using OpenCV\n",
        "    resized_image = cv2.resize(image, (256, 256))\n",
        "    # Normalize pixel values to range [0, 1]\n",
        "    normalized_image = resized_image / 255.0\n",
        "    return normalized_image"
      ],
      "metadata": {
        "id": "gp1_iRecmhGR"
      },
      "execution_count": null,
      "outputs": []
    },
    {
      "cell_type": "code",
      "source": [
        "def preprocess_dataset(dataset):\n",
        "    preprocessed_images = []\n",
        "    labels = []\n",
        "\n",
        "    for image_batch, label_batch in dataset:\n",
        "        for image, label in zip(image_batch, label_batch):\n",
        "            preprocessed_images.append(preprocess_image(image.numpy()))\n",
        "            labels.append(label.numpy())\n",
        "\n",
        "    return np.array(preprocessed_images), np.array(labels)\n"
      ],
      "metadata": {
        "id": "XOE-dGz7sxGO"
      },
      "execution_count": null,
      "outputs": []
    },
    {
      "cell_type": "code",
      "source": [
        "breeds = [\"beagle\", \"bernese_mountain_dog\", \"doberman\", \"labrador_retriever\", \"siberian_husky\"]\n",
        "args = {\n",
        "    'labels': 'inferred',\n",
        "    'label_mode': 'categorical',\n",
        "    'batch_size': 32,\n",
        "    'image_size': (256,256),\n",
        "    'seed':1,\n",
        "    'validation_split':0.2,\n",
        "    'class_names':breeds\n",
        "}\n",
        "\n",
        "# Load dataset using TensorFlow\n",
        "train_dataset = tf.keras.utils.image_dataset_from_directory(\n",
        "    \"/content/drive/MyDrive/dog_images/images\",\n",
        "    subset=\"training\",\n",
        "    **args\n",
        ")\n",
        "\n",
        "test_dataset = tf.keras.utils.image_dataset_from_directory(\n",
        "    \"/content/drive/MyDrive/dog_images/images\",\n",
        "    subset=\"validation\",\n",
        "    **args\n",
        ")"
      ],
      "metadata": {
        "id": "UggnygO8s0jE"
      },
      "execution_count": null,
      "outputs": []
    },
    {
      "cell_type": "code",
      "source": [
        "train_dataset = train_dataset.cache().prefetch(buffer_size=tf.data.AUTOTUNE)\n",
        "test_dataset = test_dataset.cache().prefetch(buffer_size=tf.data.AUTOTUNE)"
      ],
      "metadata": {
        "id": "wG022Ni3s3_A"
      },
      "execution_count": null,
      "outputs": []
    },
    {
      "cell_type": "code",
      "source": [
        "def create_model(input_shape, num_classes):\n",
        "    network = [\n",
        "        layers.Conv2D(16, 4, padding='same', activation='relu', input_shape=input_shape),\n",
        "        layers.MaxPooling2D(),\n",
        "        layers.Dropout(.2),\n",
        "        layers.Conv2D(32, 4, padding='same', activation='relu'),\n",
        "        layers.MaxPooling2D(),\n",
        "        layers.Dropout(.2),\n",
        "        layers.Conv2D(64, 4, padding='same', activation='relu'),\n",
        "        layers.MaxPooling2D(),\n",
        "        layers.Dropout(.2),\n",
        "        layers.Conv2D(128, 4, padding='same', activation='relu'),\n",
        "        layers.MaxPooling2D(),\n",
        "        layers.Dropout(.2),\n",
        "        layers.Flatten(),\n",
        "        layers.Dense(128, activation='relu'),\n",
        "        layers.Dense(128, activation='relu'),\n",
        "        layers.Dense(num_classes)\n",
        "    ]\n",
        "    model = Sequential(network)\n",
        "    model.compile(optimizer='adam',\n",
        "                  loss=tf.keras.losses.CategoricalCrossentropy(from_logits=True),\n",
        "                  metrics=['accuracy'])\n",
        "    return model"
      ],
      "metadata": {
        "id": "C4irWnPHs67C"
      },
      "execution_count": null,
      "outputs": []
    },
    {
      "cell_type": "code",
      "source": [
        "def train_model(model, train_data, test_data, epochs=5):\n",
        "    X_train, y_train = train_data\n",
        "    X_test, y_test = test_data\n",
        "    history = model.fit(X_train, y_train,\n",
        "                        validation_data=(X_test, y_test),\n",
        "                        epochs=epochs)\n",
        "    history_df = pd.DataFrame.from_dict(history.history)\n",
        "    return history_df, model"
      ],
      "metadata": {
        "id": "go56BtGzs9gR"
      },
      "execution_count": null,
      "outputs": []
    },
    {
      "cell_type": "code",
      "source": [
        "# Preprocess train and test datasets\n",
        "train_data = preprocess_dataset(train_dataset)\n",
        "test_data = preprocess_dataset(test_dataset)\n",
        "\n",
        "# Create and compile the model\n",
        "model = create_model(input_shape=(256, 256, 3), num_classes=len(breeds))\n",
        "\n",
        "# Train the model\n",
        "history_df, trained_model = train_model(model, train_data, test_data, epochs=15)\n",
        "\n",
        "history_df[['accuracy', 'val_accuracy']].plot()"
      ],
      "metadata": {
        "id": "UxWaC8aotBCs"
      },
      "execution_count": null,
      "outputs": []
    }
  ]
}